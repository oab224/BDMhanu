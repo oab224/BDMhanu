{
 "cells": [
  {
   "cell_type": "code",
   "execution_count": 30,
   "metadata": {},
   "outputs": [],
   "source": [
    "import numpy as np\n",
    "import pandas as pd"
   ]
  },
  {
   "cell_type": "markdown",
   "metadata": {},
   "source": [
    "# K-Means Algorithm"
   ]
  },
  {
   "cell_type": "markdown",
   "metadata": {},
   "source": [
    "K-Means algorithm is a clustring algorithm. It is also a classic Expectation-Maximization algorithm.<br> \n",
    "Given a set of observations (x1, x2, ..., xn), where each observation is a d-dimensional real vector, k-means clustering aims to partition the n observations into k (≤ n) sets S = {S1, S2, ..., Sk} so as to minimize the within-cluster sum of squares (WCSS) (i.e. variance) <br>\n",
    "The Step is as follows:\n",
    "1. Randomly select k \"cluster centers\" from the data set;<br>\n",
    "2. For each iteration (iterate through all points):<br>\n",
    "(1). Find the nearest center for each point, and store the cluster for each center; <br>\n",
    "(2). Calculate the new center for each cluster; <br>\n",
    "(3). If there are no change of the means, end the loop; otherwise iterate. <br>"
   ]
  },
  {
   "cell_type": "code",
   "execution_count": 31,
   "metadata": {},
   "outputs": [],
   "source": [
    "class KMeans():\n",
    "    def __init__(self, k = 3, num_iter = 1000):\n",
    "        \"\"\"\n",
    "            Some initializations, if neccesary\n",
    "            \n",
    "            Parameter:\n",
    "                k: Number of clusters we are trying to classify\n",
    "                num_iter: Number of iterations we are going to loop\n",
    "        \"\"\"\n",
    "        \n",
    "        self.model_name = 'KMeans'\n",
    "        self.k = k\n",
    "        self.num_iter = num_iter\n",
    "        self.centers = None\n",
    "        self.RM = None\n",
    "        \n",
    "    def train(self, X):\n",
    "        \"\"\"\n",
    "            Train the given dataset\n",
    "            \n",
    "            Parameter:\n",
    "                X: Matrix or 2-D array. Input feature matrix.\n",
    "                \n",
    "            Return:\n",
    "                self: the whole model containing relevant information\n",
    "        \"\"\"\n",
    "        \n",
    "        r, c = X.shape\n",
    "        centers = []\n",
    "        RM = np.zeros((r, self.k))\n",
    "        \n",
    "        \"\"\"\n",
    "            TODO: 1. Modify the following code to randomly choose the initial centers\n",
    "        \"\"\"\n",
    "        initials = np.random.randint(r, size = self.k)\n",
    "        for i in initials:\n",
    "            centers.append(X[i, :])\n",
    "        centers = np.array(centers)\n",
    "        \n",
    "        for i in range(self.num_iter):\n",
    "            for j in range(r):\n",
    "                \"\"\"\n",
    "                    TODO: 2. Modify the following code to update the Relation Matrix\n",
    "                \"\"\"\n",
    "                distance = np.square(centers - X[j,:]).sum(1)\n",
    "                minpos = np.argmin(distance)\n",
    "                \n",
    "                temp_rm = np.zeros(self.k)\n",
    "                temp_rm[minpos] = 1\n",
    "                RM[j,:] = temp_rm\n",
    "            new_centers = centers.copy()\n",
    "            for l in range(self.k):\n",
    "                \"\"\"\n",
    "                    TODO: 3. Modify the following code to update the centers\n",
    "                \"\"\"\n",
    "                row_index = (RM[:, l] == 1).flatten()\n",
    "                all_l = X[row_index, :]\n",
    "                new_centers[l, :] = all_l.mean(0)\n",
    "            if np.sum(new_centers - centers) < 0.000000000000000000001:\n",
    "                self.centers = new_centers\n",
    "                self.RM = RM\n",
    "                return self\n",
    "            centers = new_centers\n",
    "        self.centers = centers\n",
    "        self.RM = RM\n",
    "        return self"
   ]
  },
  {
   "cell_type": "code",
   "execution_count": 32,
   "metadata": {},
   "outputs": [],
   "source": [
    "import matplotlib.pyplot as plt\n",
    "from sklearn import datasets\n",
    "iris = datasets.load_iris()\n",
    "X = iris.data\n",
    "Y = iris.target"
   ]
  },
  {
   "cell_type": "code",
   "execution_count": 33,
   "metadata": {},
   "outputs": [],
   "source": [
    "X = X[:,2:4]"
   ]
  },
  {
   "cell_type": "code",
   "execution_count": 34,
   "metadata": {},
   "outputs": [],
   "source": [
    "clf = KMeans(k = 3)\n",
    "model = clf.train(X)\n"
   ]
  },
  {
   "cell_type": "code",
   "execution_count": 35,
   "metadata": {},
   "outputs": [
    {
     "name": "stdout",
     "output_type": "stream",
     "text": [
      "(50, 2)\n",
      "(48, 2)\n",
      "(52, 2)\n"
     ]
    },
    {
     "data": {
      "image/png": "[encoded data removed]",
      "text/plain": [
       "<Figure size 640x480 with 1 Axes>"
      ]
     },
     "metadata": {},
     "output_type": "display_data"
    }
   ],
   "source": [
    "r, c = model.RM.shape\n",
    "groups = []\n",
    "for i in range(c):\n",
    "    index = model.RM[:,i] == 1\n",
    "    groups.append(X[index])\n",
    "fig, ax = plt.subplots()\n",
    "ax.margins(0.05)\n",
    "for group in groups:\n",
    "    print(group.shape)\n",
    "    ax.plot(group[:,0], group[:,1], marker='o', linestyle='', ms=5)"
   ]
  },
  {
   "cell_type": "code",
   "execution_count": 36,
   "metadata": {},
   "outputs": [],
   "source": [
    "iris = datasets.load_iris()\n",
    "X = iris.data\n",
    "Y = iris.target\n",
    "X = X[:,[0,2]]"
   ]
  },
  {
   "cell_type": "code",
   "execution_count": 37,
   "metadata": {},
   "outputs": [
    {
     "name": "stdout",
     "output_type": "stream",
     "text": [
      "(29, 2)\n",
      "(94, 2)\n",
      "(27, 2)\n"
     ]
    },
    {
     "data": {
      "image/png": "[encoded data removed]",
      "text/plain": [
       "<Figure size 640x480 with 1 Axes>"
      ]
     },
     "metadata": {},
     "output_type": "display_data"
    }
   ],
   "source": [
    "clf = KMeans(k = 3)\n",
    "model = clf.train(X)\n",
    "r, c = model.RM.shape\n",
    "groups = []\n",
    "for i in range(c):\n",
    "    index = model.RM[:,i] == 1\n",
    "    groups.append(X[index])\n",
    "fig, ax = plt.subplots()\n",
    "ax.margins(0.05)\n",
    "for group in groups:\n",
    "    print(group.shape)\n",
    "    ax.plot(group[:,0], group[:,1], marker='o', linestyle='', ms=5)"
   ]
  },
  {
   "cell_type": "markdown",
   "metadata": {},
   "source": [
    "## 3 dimension"
   ]
  },
  {
   "cell_type": "code",
   "execution_count": 38,
   "metadata": {},
   "outputs": [],
   "source": [
    "iris = datasets.load_iris()\n",
    "X = iris.data\n",
    "Y = iris.target\n",
    "X = X[:,1:4]"
   ]
  },
  {
   "cell_type": "code",
   "execution_count": 39,
   "metadata": {},
   "outputs": [],
   "source": [
    "clf = KMeans(k = 3)\n",
    "model = clf.train(X)"
   ]
  },
  {
   "cell_type": "code",
   "execution_count": 40,
   "metadata": {},
   "outputs": [],
   "source": [
    "from mpl_toolkits.mplot3d import Axes3D"
   ]
  },
  {
   "cell_type": "code",
   "execution_count": 41,
   "metadata": {},
   "outputs": [],
   "source": [
    "groups = []\n",
    "r, c = model.RM.shape\n",
    "for i in range(c):\n",
    "    index = model.RM[:,i] == 1\n",
    "    groups.append(X[index])"
   ]
  },
  {
   "cell_type": "code",
   "execution_count": 42,
   "metadata": {},
   "outputs": [
    {
     "data": {
      "text/plain": [
       "<Figure size 600x600 with 0 Axes>"
      ]
     },
     "metadata": {},
     "output_type": "display_data"
    }
   ],
   "source": [
    "fig = plt.figure(figsize = (6, 6))\n",
    "ax = Axes3D(fig, elev = -150, azim = 130)\n",
    "for group in groups:\n",
    "    ax.scatter(group[:,0], group[:,1], group[:,2], marker='o')"
   ]
  },
  {
   "cell_type": "markdown",
   "metadata": {},
   "source": [
    "Note: We should expect different results every time we run Kmeans as the centers are randomly initialized."
   ]
  },
  {
   "cell_type": "markdown",
   "metadata": {},
   "source": [
    "# Gaussian Mixture"
   ]
  },
  {
   "cell_type": "markdown",
   "metadata": {},
   "source": [
    "Gaussian Mixture Algorithm is a softer version of the k-means algorithm. It is also a classic example of the Expectation-Maximization Algorithm. <br>\n",
    "In Gaussian Mixture Algorithm, we model the data as coming from a mixture of Gaussians.<br>\n",
    "In this example, we will be using a randomly generated Gaussian Distribution. <br>"
   ]
  },
  {
   "cell_type": "code",
   "execution_count": 43,
   "metadata": {},
   "outputs": [],
   "source": [
    "def gaussian(X, mu, cov):\n",
    "    \"\"\" \n",
    "        Fucntion to create mixtures using the Given matrix X, given covariance and given mu\n",
    "\n",
    "        Return:\n",
    "        transformed x.\n",
    "    \"\"\"\n",
    "    # X should be matirx-like\n",
    "    n = X.shape[1]\n",
    "    diff = (X - mu).T\n",
    "    return np.diagonal(1 / ((2 * np.pi) ** (n / 2) * np.linalg.det(cov) ** 0.5) * np.exp(-0.5 * np.dot(np.dot(diff.T, np.linalg.inv(cov)), diff))).reshape(-1, 1)"
   ]
  },
  {
   "cell_type": "code",
   "execution_count": 16,
   "metadata": {},
   "outputs": [],
   "source": [
    "from sklearn.datasets import make_blobs"
   ]
  },
  {
   "cell_type": "code",
   "execution_count": 17,
   "metadata": {},
   "outputs": [],
   "source": [
    "X, y = make_blobs(n_samples=500, n_features=3, cluster_std=2)"
   ]
  },
  {
   "cell_type": "code",
   "execution_count": 18,
   "metadata": {},
   "outputs": [
    {
     "data": {
      "text/plain": [
       "<mpl_toolkits.mplot3d.art3d.Path3DCollection at 0x1c5c583f590>"
      ]
     },
     "execution_count": 18,
     "metadata": {},
     "output_type": "execute_result"
    },
    {
     "data": {
      "text/plain": [
       "<Figure size 600x600 with 0 Axes>"
      ]
     },
     "metadata": {},
     "output_type": "display_data"
    }
   ],
   "source": [
    "fig = plt.figure(figsize = (6, 6))\n",
    "ax = Axes3D(fig, elev = -150, azim = 130)\n",
    "ax.scatter(X[:,0], X[:,1], X[:,2], marker='o')"
   ]
  },
  {
   "cell_type": "code",
   "execution_count": 19,
   "metadata": {},
   "outputs": [],
   "source": [
    "def initialize_clusters(X, n_clusters):\n",
    "    \"\"\" \n",
    "        Initialize the clusters by storing the information in the data matrix X into the clusters\n",
    "\n",
    "        Parameter:\n",
    "            X: Input feature matrix\n",
    "            n_clusters: Number of clusters we are trying to classify\n",
    "\n",
    "        Return:\n",
    "            cluster: List of clusters. Each cluster center is calculated by the KMeans algorithm above.\n",
    "    \"\"\"\n",
    "    clusters = []\n",
    "    index = np.arange(X.shape[0])\n",
    "    \n",
    "    # We use the KMeans centroids to initialise the GMM\n",
    "    \n",
    "    kmeans = KMeans().train(X)\n",
    "    mu_k = kmeans.centers\n",
    "    \n",
    "    for i in range(n_clusters):\n",
    "        clusters.append({\n",
    "            'w_k': 1.0 / n_clusters,\n",
    "            'mu_k': mu_k[i],\n",
    "            'cov_k': np.identity(X.shape[1], dtype=np.float64)\n",
    "        })\n",
    "        \n",
    "    return clusters"
   ]
  },
  {
   "cell_type": "code",
   "execution_count": 20,
   "metadata": {},
   "outputs": [],
   "source": [
    "def expectation_step(X, clusters):\n",
    "    \"\"\" \n",
    "        \"E-Step\" for the GM algorithm\n",
    "\n",
    "        Parameter:\n",
    "            X: Input feature matrix\n",
    "            clusters: List of clusters\n",
    "    \"\"\"\n",
    "    totals = np.zeros((X.shape[0], 1), dtype=np.float64)\n",
    "    \n",
    "    for cluster in clusters:\n",
    "        w_k = cluster['w_k']\n",
    "        mu_k = cluster['mu_k']\n",
    "        cov_k = cluster['cov_k']\n",
    "        \n",
    "        \"\"\"\n",
    "            TODO: 4. Calculate the numerator part of the cluster posterior\n",
    "        \"\"\"\n",
    "        \n",
    "        posterior = w_k * gaussian(X, mu_k, cov_k)\n",
    "        \n",
    "        for i in range(X.shape[0]):\n",
    "            \"\"\"\n",
    "            TODO: 5. Calculate the denominator part of the cluster posterior\n",
    "            \"\"\"\n",
    "            totals[i] += posterior[i]\n",
    "        \n",
    "        cluster['posterior'] = posterior\n",
    "        cluster['totals'] = totals\n",
    "        \n",
    "    \n",
    "    for cluster in clusters:\n",
    "        \"\"\"\n",
    "            TODO: 6. Calculate the cluster posterior using totals\n",
    "        \"\"\"\n",
    "        cluster['posterior'] = cluster['posterior'] / cluster['totals']"
   ]
  },
  {
   "cell_type": "code",
   "execution_count": 22,
   "metadata": {},
   "outputs": [],
   "source": [
    "def maximization_step(X, clusters):\n",
    "    \"\"\" \n",
    "        \"M-Step\" for the GM algorithm\n",
    "\n",
    "        Parameter:\n",
    "            X: Input feature matrix\n",
    "            clusters: List of clusters\n",
    "    \"\"\"\n",
    "    N = float(X.shape[0])\n",
    "  \n",
    "    for cluster in clusters:\n",
    "        posterior = cluster['posterior']\n",
    "        cov_k = np.zeros((X.shape[1], X.shape[1]))\n",
    "        \n",
    "        \"\"\"\n",
    "            TODO: 7. Calculate the new cluster data\n",
    "        \"\"\"        \n",
    "        N_k = np.sum(posterior, axis=0)\n",
    "        w_k = N_k / N\n",
    "        mu_k = (X * posterior).sum(0) / N_k\n",
    "        for j in range(X.shape[0]):\n",
    "            cov_k += posterior[j] * (X[j] - mu_k) * ((X[j] - mu_k).reshape((-1,1)))\n",
    "        cov_k /= N_k \n",
    "        cluster['w_k'] = w_k\n",
    "        cluster['mu_k'] = mu_k\n",
    "        cluster['cov_k'] = cov_k"
   ]
  },
  {
   "cell_type": "code",
   "execution_count": 23,
   "metadata": {},
   "outputs": [],
   "source": [
    "def get_likelihood(X, clusters):\n",
    "    likelihood = []\n",
    "    sample_likelihoods = np.log(np.array([cluster['totals'] for cluster in clusters]))\n",
    "    return np.sum(sample_likelihoods), sample_likelihoods"
   ]
  },
  {
   "cell_type": "code",
   "execution_count": 24,
   "metadata": {},
   "outputs": [],
   "source": [
    "def train_gmm(X, n_clusters, n_epochs):\n",
    "    clusters = initialize_clusters(X, n_clusters)\n",
    "    likelihoods = np.zeros((n_epochs, ))\n",
    "    scores = np.zeros((X.shape[0], n_clusters))\n",
    "\n",
    "    for i in range(n_epochs):\n",
    "      \n",
    "        expectation_step(X, clusters)\n",
    "        maximization_step(X, clusters)\n",
    "\n",
    "        likelihood, sample_likelihoods = get_likelihood(X, clusters)\n",
    "        likelihoods[i] = likelihood\n",
    "        \n",
    "    for i, cluster in enumerate(clusters):\n",
    "        scores[:, i] = np.log(cluster['w_k']).reshape(-1)\n",
    "        \n",
    "    return clusters, likelihoods, scores, sample_likelihoods"
   ]
  },
  {
   "cell_type": "code",
   "execution_count": 25,
   "metadata": {},
   "outputs": [],
   "source": [
    "clusters, likelihoods, scores, sample_likelihoods = train_gmm(X, 3, 100)"
   ]
  },
  {
   "cell_type": "code",
   "execution_count": 26,
   "metadata": {},
   "outputs": [],
   "source": [
    "from sklearn.cluster import KMeans"
   ]
  },
  {
   "cell_type": "code",
   "execution_count": 27,
   "metadata": {},
   "outputs": [
    {
     "name": "stdout",
     "output_type": "stream",
     "text": [
      "Means by sklearn:\n",
      " [[ 9.72660853  5.16339942 -4.69683448]\n",
      " [ 3.42558196 -9.75725093 -6.32711274]\n",
      " [ 0.52672237  3.11091398 -8.03380242]]\n",
      "Means by our implementation:\n",
      " [[  5.08243982   4.12789848  -6.38175065]\n",
      " [  3.44930427  -9.47290946  -6.05879432]\n",
      " [  3.35118727 -10.54166773  -7.07506384]]\n",
      "Scores by sklearn:\n",
      " [-6.4668072  -6.32154746 -7.25712968 -8.88361935 -6.71216196 -6.06032842\n",
      " -6.86571991 -6.59676818 -7.16286207 -7.51870113 -8.43637385 -6.16431325\n",
      " -8.46485517 -6.07212638 -6.55029445 -8.23627882 -6.24787378 -8.06653397\n",
      " -6.83262784 -7.1370662 ]\n",
      "Scores by our implementation:\n",
      " [-7.16166244 -6.69019286 -7.26285196 -9.25906359 -7.34545109 -6.84336603\n",
      " -6.54374859 -7.125544   -7.18202412 -8.27764165 -8.3079054  -6.87254843\n",
      " -7.95047684 -5.90826467 -6.39285746 -8.71219243 -6.08135219 -6.62677302\n",
      " -7.07130627 -7.31152792]\n"
     ]
    }
   ],
   "source": [
    "from sklearn.mixture import GaussianMixture\n",
    "\n",
    "gmm = GaussianMixture(n_components=3, max_iter=50).fit(X)\n",
    "gmm_scores = gmm.score_samples(X)\n",
    "\n",
    "print('Means by sklearn:\\n', gmm.means_)\n",
    "print('Means by our implementation:\\n', np.array([cluster['mu_k'].tolist() for cluster in clusters]))\n",
    "print('Scores by sklearn:\\n', gmm_scores[0:20])\n",
    "print('Scores by our implementation:\\n', sample_likelihoods.reshape(-1)[0:20])"
   ]
  }
 ],
 "metadata": {
  "kernelspec": {
   "display_name": "Python 3",
   "language": "python",
   "name": "python3"
  },
  "language_info": {
   "codemirror_mode": {
    "name": "ipython",
    "version": 3
   },
   "file_extension": ".py",
   "mimetype": "text/x-python",
   "name": "python",
   "nbconvert_exporter": "python",
   "pygments_lexer": "ipython3",
   "version": "3.11.2"
  }
 },
 "nbformat": 4,
 "nbformat_minor": 2
}
